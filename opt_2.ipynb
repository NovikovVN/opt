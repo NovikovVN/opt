{
 "cells": [
  {
   "cell_type": "markdown",
   "metadata": {},
   "source": [
    "Задача 1\n",
    "\n",
    "Директор выделил машину под закупку оборудования, выделил достаточно большое количество денег и сказал: «Берите, что вам нужно, но не более 200 кг. И каждого товара берите не более одной единицы!» Есть прайс-лист на 2000 наименований.\n",
    "Стоимости товаров варьируются от 100 до 5000 долларов с шагом 100 долларов.\n",
    "Массы товаров варьируются от 1 до 150 кг с шагом в 1 кг.\n",
    "Зависимостей между массой и стоимостью нет (может выпасть товар массой 1 кг и стоимостью 5000 долларов и массой 150 кг и стоимостью 100 долларов.\n",
    "1. Необходимо составить ЦФ для этой задачи, выбрать критерий оптимальности и...\n",
    "2. *...предложить алгоритм её решения."
   ]
  },
  {
   "cell_type": "markdown",
   "metadata": {},
   "source": [
    "1). Пусть:\n",
    " - $n_{i}$ - количество купленных единиц $i$-го товара;\n",
    " - $p_{i}$ - цена единицы $i$-го товара;\n",
    " - $m_{i}$ - масса единицы $i$-го товара.\n",
    "\n",
    "Целевая функция максимизации потенциальной выручки от закупленных товаров:\n",
    "\n",
    "$P=\\sum_{i=1}^{2000}n_{i} \\cdot p_{i}\\to max_{n_{1}...n_{2000}}$\n",
    "\n",
    "Ограничения:\n",
    "\n",
    "$\\begin{cases}\n",
    "\\sum_{i=1}^{2000}n_{i} \\cdot m_{i} \\leqslant 200, \\\\\n",
    "p_{i} \\in [100, 200, ..., 5000], \\\\\n",
    "m_{i} \\in [1, 2, ..., 150], \\\\\n",
    "n_{i} \\in \\mathbb N.\n",
    "\\end{cases}$"
   ]
  },
  {
   "cell_type": "markdown",
   "metadata": {},
   "source": [
    "2). Алгоритм решения: перебор $n_{i}$ при зафиксированных $p_{i}$ и $m_{i}$."
   ]
  },
  {
   "cell_type": "markdown",
   "metadata": {},
   "source": [
    " "
   ]
  },
  {
   "cell_type": "markdown",
   "metadata": {},
   "source": [
    "Задача 2\n",
    "\n",
    "Предприятие выпускает покрышки и надувные лодки.\n",
    "Производство одной покрышки занимает 2 часа на заготовительном участке, 4 часа на участке обработки, 0 часов на участке сборки.\n",
    "Производство одной лодки занимает 6 часов на заготовительном участке, 3 часа на участке обработки, 2 часа на участке сборки.\n",
    "Стоимость одной лодки — 12000 рублей, стоимость покрышки — 7000 рублей.\n",
    "Фонд времени в день: заготовительного участка — 14 нормочасов, участка обработки — 10 нч, участка сборки — 8 нч.\n",
    "1. Составить ЦФ, записать ограничения и функцию Лагранжа для решения этой задачи.\n",
    "* Разработать оптимальный производственный план предприятия."
   ]
  },
  {
   "cell_type": "markdown",
   "metadata": {},
   "source": [
    "1). Пусть:\n",
    " - $x_{1}$ - количество покрышек;\n",
    " - $x_{2}$ - количество лодок.\n",
    "\n",
    "Целевая функция максимизации выручки от произведенных лодок и покрышек:\n",
    "\n",
    "$P=7000x_{1}+12000x_{2} \\to max_{x_{1}, \\space x_{2}}$\n",
    "\n",
    "Ограничения:\n",
    "\n",
    "$\\begin{cases}\n",
    "2x_{1}+6x_{2} \\leqslant 14, \\\\\n",
    "4x_{1}+3x_{2} \\leqslant 10, \\\\\n",
    "2x_{2} \\leqslant 8.\n",
    "\\end{cases}$\n",
    "\n",
    "Лагранжиан:\n",
    "\n",
    "$L=7000x_{1}+12000x_{2}+\\lambda_{1}\\cdot(14-2x_{1}-6x_{2})+\\lambda_{2}\\cdot(10-4x_{1}-3x_{2})+\\lambda_{3}\\cdot(8-2x_{2})$\n",
    "\n",
    "Частные производные:\n",
    "\n",
    "$\\begin{cases}\n",
    "\\frac{\\partial L}{\\partial x_{1}}=7000-2\\lambda_{1}=0. \\\\\n",
    "\\frac{\\partial L}{\\partial x_{2}}=12000-3\\lambda_{2}=0, \\\\\n",
    "\\frac{\\partial L}{\\partial \\lambda_{1}}=14-2x_{1}-6x_{2}=0, \\\\\n",
    "\\frac{\\partial L}{\\partial \\lambda_{2}}=10-4x_{1}-3x_{2}=0, \\\\\n",
    "\\frac{\\partial L}{\\partial \\lambda_{3}}=8-2x_{2}=0.\n",
    "\\end{cases}$\n",
    "\n",
    "Решение можно получить из уравнений:\n",
    "\n",
    "$\\begin{cases}\n",
    "2x_{1}+6x_{2}=14, \\\\\n",
    "4x_{1}+3x_{2}=10.\n",
    "\\end{cases}\n",
    "\\Rightarrow\n",
    "\\begin{cases}\n",
    "x_{1}=1, \\\\\n",
    "x_{2}=2.\n",
    "\\end{cases}$\n",
    "\n",
    "Исходным ограничениям решение удовлетворяет:\n",
    "\n",
    "$\\begin{cases}\n",
    "2\\cdot{1}+6\\cdot{2} \\leqslant 14, \\\\\n",
    "4\\cdot{1}+3\\cdot{2} \\leqslant 10, \\\\\n",
    "2\\cdot{2} \\leqslant 8.\n",
    "\\end{cases}$\n",
    "\n",
    "Графическое решение:"
   ]
  },
  {
   "cell_type": "code",
   "execution_count": 1,
   "metadata": {},
   "outputs": [],
   "source": [
    "import numpy as np\n",
    "import matplotlib.pyplot as plt\n",
    "\n",
    "%matplotlib inline"
   ]
  },
  {
   "cell_type": "code",
   "execution_count": 2,
   "metadata": {},
   "outputs": [],
   "source": [
    "x1 = np.linspace(0, 2.5, 10)\n",
    "\n",
    "x2_1 = (14. - 2 * x1) / 6.\n",
    "x2_2 = (10. - 4 * x1) / 3.\n",
    "x2_3 = 8. / 2 * np.ones(len(x1))"
   ]
  },
  {
   "cell_type": "code",
   "execution_count": 3,
   "metadata": {
    "scrolled": true
   },
   "outputs": [
    {
     "data": {
      "image/png": "[encoded data removed]",
      "text/plain": [
       "<Figure size 432x288 with 1 Axes>"
      ]
     },
     "metadata": {
      "needs_background": "light"
     },
     "output_type": "display_data"
    }
   ],
   "source": [
    "def draw_condition(x, y, color, label):\n",
    "    plt.plot(x, y, color=color, label=label, linewidth=3)\n",
    "    plt.fill_between(x, y, color=color, alpha=0.3)\n",
    "\n",
    "draw_condition(x1, x2_1, color='m', label='$2x_{1} + 6x_{2} \\leqslant 14$')\n",
    "draw_condition(x1, x2_2, color='b', label='$4x_{1} + 3x_{2} \\leqslant 10$')\n",
    "draw_condition(x1, x2_3, color='y', label='$2x_{2} \\leqslant 8$')\n",
    "plt.scatter(1, 2, c='k', marker='s')\n",
    "plt.legend(bbox_to_anchor=(1, 1))\n",
    "plt.grid(True)"
   ]
  },
  {
   "cell_type": "markdown",
   "metadata": {},
   "source": [
    "**Оптимальный план:**"
   ]
  },
  {
   "cell_type": "code",
   "execution_count": 4,
   "metadata": {},
   "outputs": [
    {
     "data": {
      "text/plain": [
       "31000"
      ]
     },
     "execution_count": 4,
     "metadata": {},
     "output_type": "execute_result"
    }
   ],
   "source": [
    "7000 * 1 + 12000 * 2"
   ]
  }
 ],
 "metadata": {
  "kernelspec": {
   "display_name": "Python 3",
   "language": "python",
   "name": "python3"
  },
  "language_info": {
   "codemirror_mode": {
    "name": "ipython",
    "version": 3
   },
   "file_extension": ".py",
   "mimetype": "text/x-python",
   "name": "python",
   "nbconvert_exporter": "python",
   "pygments_lexer": "ipython3",
   "version": "3.7.3"
  }
 },
 "nbformat": 4,
 "nbformat_minor": 2
}
